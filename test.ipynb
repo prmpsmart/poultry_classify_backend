{
 "cells": [
  {
   "cell_type": "code",
   "execution_count": 1,
   "metadata": {},
   "outputs": [
    {
     "ename": "NameError",
     "evalue": "name '__file__' is not defined",
     "output_type": "error",
     "traceback": [
      "\u001b[1;31m---------------------------------------------------------------------------\u001b[0m",
      "\u001b[1;31mNameError\u001b[0m                                 Traceback (most recent call last)",
      "Cell \u001b[1;32mIn[1], line 9\u001b[0m\n\u001b[0;32m      6\u001b[0m \u001b[38;5;28;01mimport\u001b[39;00m \u001b[38;5;21;01mcv2\u001b[39;00m\u001b[38;5;241m,\u001b[39m \u001b[38;5;21;01mnumpy\u001b[39;00m\u001b[38;5;241m,\u001b[39m \u001b[38;5;21;01mbase64\u001b[39;00m\u001b[38;5;241m,\u001b[39m \u001b[38;5;21;01mos\u001b[39;00m\u001b[38;5;241m,\u001b[39m \u001b[38;5;21;01mjson\u001b[39;00m\n\u001b[0;32m      7\u001b[0m \u001b[38;5;28;01mfrom\u001b[39;00m \u001b[38;5;21;01mkeras\u001b[39;00m\u001b[38;5;21;01m.\u001b[39;00m\u001b[38;5;21;01mmodels\u001b[39;00m \u001b[38;5;28;01mimport\u001b[39;00m load_model\n\u001b[1;32m----> 9\u001b[0m dirname \u001b[38;5;241m=\u001b[39m os\u001b[38;5;241m.\u001b[39mpath\u001b[38;5;241m.\u001b[39mdirname(\u001b[38;5;18m__file__\u001b[39m)\n\u001b[0;32m     11\u001b[0m class_names \u001b[38;5;241m=\u001b[39m [\u001b[38;5;124m\"\u001b[39m\u001b[38;5;124mCoccidiosis\u001b[39m\u001b[38;5;124m\"\u001b[39m, \u001b[38;5;124m\"\u001b[39m\u001b[38;5;124mHealthy\u001b[39m\u001b[38;5;124m\"\u001b[39m, \u001b[38;5;124m\"\u001b[39m\u001b[38;5;124mNewcastle Disease\u001b[39m\u001b[38;5;124m\"\u001b[39m, \u001b[38;5;124m\"\u001b[39m\u001b[38;5;124mSalmonella\u001b[39m\u001b[38;5;124m\"\u001b[39m]\n\u001b[0;32m     12\u001b[0m model \u001b[38;5;241m=\u001b[39m load_model(\n\u001b[0;32m     13\u001b[0m     os\u001b[38;5;241m.\u001b[39mpath\u001b[38;5;241m.\u001b[39mjoin(\n\u001b[0;32m     14\u001b[0m         dirname,\n\u001b[0;32m     15\u001b[0m         \u001b[38;5;124m\"\u001b[39m\u001b[38;5;124mmodel/poultry_disease_classification.keras\u001b[39m\u001b[38;5;124m\"\u001b[39m,\n\u001b[0;32m     16\u001b[0m     ),\n\u001b[0;32m     17\u001b[0m )\n",
      "\u001b[1;31mNameError\u001b[0m: name '__file__' is not defined"
     ]
    }
   ],
   "source": [
    "import warnings\n",
    "\n",
    "warnings.filterwarnings(\"ignore\")\n",
    "\n",
    "\n",
    "import cv2, numpy, base64, os, json\n",
    "from keras.models import load_model\n",
    "\n",
    "dirname = os.path.dirname(__file__)\n",
    "\n",
    "class_names = [\"Coccidiosis\", \"Healthy\", \"Newcastle Disease\", \"Salmonella\"]\n",
    "model = load_model(\n",
    "    os.path.join(\n",
    "        dirname,\n",
    "        \"model/poultry_disease_classification.keras\",\n",
    "    ),\n",
    ")\n"
   ]
  },
  {
   "cell_type": "code",
   "execution_count": 6,
   "metadata": {},
   "outputs": [],
   "source": [
    "\n",
    "\n",
    "def read_image_from_base64(base64_string: str) -> cv2.typing.MatLike:\n",
    "    # Decode the base64 string to bytes\n",
    "    image_bytes = base64.b64decode(base64_string)\n",
    "\n",
    "    # Convert the bytes to numpy array\n",
    "    image_array = numpy.frombuffer(image_bytes, numpy.uint8)\n",
    "\n",
    "    # Decode the image array using OpenCV\n",
    "    image = cv2.imdecode(image_array, cv2.IMREAD_COLOR)\n",
    "\n",
    "    return image\n",
    "\n",
    "\n",
    "def resize_image_with_aspect_ratio(\n",
    "    *,\n",
    "    image_string: str = \"\",\n",
    "    image_path: str = \"\",\n",
    "    target_size: tuple = (360, 360),\n",
    "):\n",
    "    assert image_string or image_path\n",
    "\n",
    "    if image_path:\n",
    "        image = cv2.imread(image_path)\n",
    "    else:\n",
    "        image = read_image_from_base64(image_string)\n",
    "\n",
    "    image = cv2.cvtColor(image, cv2.COLOR_BGR2RGB)\n",
    "    height, width = image.shape[:2]\n",
    "\n",
    "    # Calculate the aspect ratio\n",
    "    aspect_ratio = width / height\n",
    "\n",
    "    if aspect_ratio > 1:\n",
    "        new_width = int(target_size[0] * aspect_ratio)\n",
    "        resized_image = cv2.resize(image, (new_width, target_size[1]))\n",
    "        crop_start = (new_width - target_size[0]) // 2\n",
    "        cropped_image = resized_image[:, crop_start : crop_start + target_size[0]]\n",
    "    else:\n",
    "        new_height = int(target_size[1] / aspect_ratio)\n",
    "        resized_image = cv2.resize(image, (target_size[0], new_height))\n",
    "        crop_start = (new_height - target_size[1]) // 2\n",
    "        cropped_image = resized_image[crop_start : crop_start + target_size[1], :]\n",
    "\n",
    "    return cropped_image\n",
    "\n"
   ]
  },
  {
   "cell_type": "code",
   "execution_count": 7,
   "metadata": {},
   "outputs": [
    {
     "data": {
      "text/plain": [
       "array([[[211, 212, 216],\n",
       "        [212, 213, 217],\n",
       "        [211, 212, 216],\n",
       "        ...,\n",
       "        [203, 204, 206],\n",
       "        [199, 200, 204],\n",
       "        [195, 196, 200]],\n",
       "\n",
       "       [[210, 211, 215],\n",
       "        [209, 210, 214],\n",
       "        [209, 212, 216],\n",
       "        ...,\n",
       "        [209, 209, 211],\n",
       "        [209, 209, 214],\n",
       "        [204, 204, 208]],\n",
       "\n",
       "       [[206, 210, 213],\n",
       "        [205, 208, 213],\n",
       "        [205, 208, 213],\n",
       "        ...,\n",
       "        [209, 209, 211],\n",
       "        [210, 209, 214],\n",
       "        [211, 210, 215]],\n",
       "\n",
       "       ...,\n",
       "\n",
       "       [[172, 171, 166],\n",
       "        [171, 170, 165],\n",
       "        [173, 172, 167],\n",
       "        ...,\n",
       "        [208, 199, 157],\n",
       "        [193, 182, 136],\n",
       "        [170, 159, 113]],\n",
       "\n",
       "       [[175, 176, 170],\n",
       "        [173, 174, 168],\n",
       "        [173, 174, 168],\n",
       "        ...,\n",
       "        [203, 194, 154],\n",
       "        [190, 178, 137],\n",
       "        [176, 165, 120]],\n",
       "\n",
       "       [[174, 175, 170],\n",
       "        [175, 176, 171],\n",
       "        [175, 176, 171],\n",
       "        ...,\n",
       "        [188, 179, 140],\n",
       "        [186, 174, 134],\n",
       "        [174, 162, 122]]], dtype=uint8)"
      ]
     },
     "execution_count": 7,
     "metadata": {},
     "output_type": "execute_result"
    }
   ],
   "source": [
    "\n",
    "file = r\"C:\\Users\\USER\\Desktop\\Workspace\\PoultryClass\\poultry_disease_classification\\images\\cocci.png\"\n",
    "file = r\"C:\\Users\\USER\\Desktop\\Workspace\\PoultryClass\\poultry_disease_classification\\images\\cocci.0.jpg\"\n",
    "image = base64.b64encode(open(file, \"rb\").read()).decode()\n",
    "resize_image_with_aspect_ratio(image_string=image)"
   ]
  }
 ],
 "metadata": {
  "kernelspec": {
   "display_name": "base",
   "language": "python",
   "name": "python3"
  },
  "language_info": {
   "codemirror_mode": {
    "name": "ipython",
    "version": 3
   },
   "file_extension": ".py",
   "mimetype": "text/x-python",
   "name": "python",
   "nbconvert_exporter": "python",
   "pygments_lexer": "ipython3",
   "version": "3.11.5"
  }
 },
 "nbformat": 4,
 "nbformat_minor": 2
}
